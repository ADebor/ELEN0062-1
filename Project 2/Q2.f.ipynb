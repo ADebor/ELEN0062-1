{
 "cells": [
  {
   "cell_type": "code",
   "execution_count": 1,
   "metadata": {},
   "outputs": [],
   "source": [
    "# IML - Project 2 - Q2.f\n",
    "# (Antoine Debor & Jan Held, November 2020)\n",
    "\n",
    "# Run the entire notebook to obtain the figures presented in the report\n",
    "\n",
    "from sklearn.linear_model import Ridge\n",
    "import numpy as np\n",
    "import random\n",
    "import matplotlib.pyplot as plt\n",
    "from matplotlib import rc\n",
    "\n",
    "rc('text', usetex=True)\n",
    "np.random.seed(0)\n",
    "\n",
    "\n",
    "def f(x):\n",
    "    \"\"\" function to approximate \"\"\"\n",
    "    return -x**3+3*x**2-2*x+1\n",
    "\n",
    "def generationOfLS(mu_e, sigma_e):\n",
    "    \"\"\"Generation of the LS by using the formula\n",
    "       y = f(x) + mu_e where mu_e ∼ N (0, sigma_e^2)\n",
    "\n",
    "    Return\n",
    "    ------\n",
    "    LS\n",
    "    \"\"\"\n",
    "    \n",
    "    LS = []\n",
    "    for j in np.arange(nb_LS):\n",
    "        LS_j = []\n",
    "        for k in range(LS_size):\n",
    "            x = random.uniform(0, 2)\n",
    "            LS_j.append((f(x)+ np.random.normal(mu_e, sigma_e),x))\n",
    "        LS.append(LS_j)\n",
    "    return LS\n",
    "\n",
    "nb_x = 200\n",
    "nb_lam = 200\n",
    "nb_LS = 1000\n",
    "LS_size = 30\n",
    "mu_e, sigma_e = 0, np.sqrt(0.1)\n",
    "x_0 = np.arange(0,2,2/nb_x)\n",
    "lam = np.arange(0,2,2/nb_lam)\n",
    "fun = f(x_0)\n",
    "\n",
    "# Generation of the LS\n",
    "LS = generationOfLS(mu_e, sigma_e)\n",
    "\n",
    "unit_vect = np.ones(LS_size)\n",
    "unit_vect_bis = np.ones(nb_x)"
   ]
  },
  {
   "cell_type": "code",
   "execution_count": 2,
   "metadata": {},
   "outputs": [],
   "source": [
    "sqBias_ridge = []\n",
    "var_ridge = []\n",
    "expErr_ridge = []\n",
    "\n",
    "# Creation of multiple models with a different lambda where lambda ∈ [0.0, 2.0]\n",
    "for lmda in lam:\n",
    "    models = []\n",
    "    for LS_j in LS:\n",
    "        LS_j = np.asarray(LS_j)\n",
    "        X = np.stack((unit_vect, LS_j[:,1] , LS_j[:,1]**2, LS_j[:,1]**3, LS_j[:,1]**4, LS_j[:,1]**5), axis=1)\n",
    "        model = Ridge(alpha=lmda, fit_intercept=False).fit(X,y=LS_j[:,0])\n",
    "        models.append(model)\n",
    "    \n",
    "    y_hat = np.zeros((nb_x,1))\n",
    "    arg = np.zeros((nb_x,1))\n",
    "    \n",
    "    # Computation of the squared bias for the different models\n",
    "    for model in models:       \n",
    "        y_hat = y_hat + (model.predict(np.stack((unit_vect_bis, x_0, x_0**2, x_0**3, x_0**4, x_0**5), axis=1))).reshape((nb_x,1))\n",
    "\n",
    "    y_hat_avg = y_hat/nb_LS\n",
    "    bias_squared = fun-y_hat_avg.transpose()\n",
    "    bias_squared = (bias_squared.reshape(np.size(bias_squared)))**2\n",
    "    sqBias_ridge.append(np.mean(bias_squared))\n",
    "    \n",
    "    #Computation of the variance for the different models\n",
    "    for model in models:\n",
    "        arg = arg + (model.predict(np.stack((unit_vect_bis, x_0, x_0**2, x_0**3, x_0**4, x_0**5), axis=1)).reshape((nb_x,1)) - y_hat_avg)**2\n",
    "    \n",
    "    var = arg/nb_LS\n",
    "    var_ridge.append(np.mean(var))\n",
    "    \n",
    "    # Computation of the expected error\n",
    "    exp_err = sigma_e**2 + bias_squared + var.reshape(nb_x)\n",
    "    expErr_ridge.append(np.mean(exp_err))\n",
    "    \n"
   ]
  },
  {
   "cell_type": "code",
   "execution_count": 3,
   "metadata": {},
   "outputs": [
    {
     "data": {
      "image/png": "[encoded data removed]",
      "text/plain": [
       "<Figure size 432x288 with 1 Axes>"
      ]
     },
     "metadata": {
      "needs_background": "light"
     },
     "output_type": "display_data"
    }
   ],
   "source": [
    "#Mean estimated squared bias\n",
    "plt.plot(lam, sqBias_ridge)\n",
    "plt.xlabel(\"$\\lambda$\")\n",
    "plt.ylabel(\"Squared bias\")\n",
    "plt.show()"
   ]
  },
  {
   "cell_type": "code",
   "execution_count": 4,
   "metadata": {},
   "outputs": [
    {
     "data": {
      "image/png": "[encoded data removed]",
      "text/plain": [
       "<Figure size 432x288 with 1 Axes>"
      ]
     },
     "metadata": {
      "needs_background": "light"
     },
     "output_type": "display_data"
    }
   ],
   "source": [
    "#Mean estimated variance\n",
    "plt.plot(lam, var_ridge)\n",
    "plt.xlabel(\"$\\lambda$\")\n",
    "plt.ylabel(\"Variance\")\n",
    "plt.show()"
   ]
  },
  {
   "cell_type": "code",
   "execution_count": 5,
   "metadata": {},
   "outputs": [
    {
     "data": {
      "image/png": "[encoded data removed]",
      "text/plain": [
       "<Figure size 432x288 with 1 Axes>"
      ]
     },
     "metadata": {
      "needs_background": "light"
     },
     "output_type": "display_data"
    }
   ],
   "source": [
    "#Mean estimated exoected error\n",
    "plt.plot(lam, expErr_ridge)\n",
    "plt.xlabel(\"$\\lambda$\")\n",
    "plt.ylabel(\"Expected error\")\n",
    "plt.show()"
   ]
  }
 ],
 "metadata": {
  "kernelspec": {
   "display_name": "Python 3",
   "language": "python",
   "name": "python3"
  },
  "language_info": {
   "codemirror_mode": {
    "name": "ipython",
    "version": 3
   },
   "file_extension": ".py",
   "mimetype": "text/x-python",
   "name": "python",
   "nbconvert_exporter": "python",
   "pygments_lexer": "ipython3",
   "version": "3.7.3"
  }
 },
 "nbformat": 4,
 "nbformat_minor": 2
}
